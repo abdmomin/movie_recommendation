{
 "cells": [
  {
   "cell_type": "code",
   "execution_count": 1,
   "id": "3a1be259-fb83-429e-a20e-645c5b351330",
   "metadata": {},
   "outputs": [],
   "source": [
    "import pandas as pd"
   ]
  },
  {
   "cell_type": "code",
   "execution_count": 2,
   "id": "4d4054a2-23f0-4095-a408-121a6d6b7d4d",
   "metadata": {},
   "outputs": [],
   "source": [
    "movies = pd.read_csv('dataset/movies.csv')"
   ]
  },
  {
   "cell_type": "code",
   "execution_count": 3,
   "id": "3493f443-bebe-448c-9c68-24a20207407a",
   "metadata": {},
   "outputs": [
    {
     "data": {
      "text/html": [
       "<div>\n",
       "<style scoped>\n",
       "    .dataframe tbody tr th:only-of-type {\n",
       "        vertical-align: middle;\n",
       "    }\n",
       "\n",
       "    .dataframe tbody tr th {\n",
       "        vertical-align: top;\n",
       "    }\n",
       "\n",
       "    .dataframe thead th {\n",
       "        text-align: right;\n",
       "    }\n",
       "</style>\n",
       "<table border=\"1\" class=\"dataframe\">\n",
       "  <thead>\n",
       "    <tr style=\"text-align: right;\">\n",
       "      <th></th>\n",
       "      <th>movieId</th>\n",
       "      <th>title</th>\n",
       "      <th>genres</th>\n",
       "    </tr>\n",
       "  </thead>\n",
       "  <tbody>\n",
       "    <tr>\n",
       "      <th>0</th>\n",
       "      <td>1</td>\n",
       "      <td>Toy Story (1995)</td>\n",
       "      <td>Adventure|Animation|Children|Comedy|Fantasy</td>\n",
       "    </tr>\n",
       "    <tr>\n",
       "      <th>1</th>\n",
       "      <td>2</td>\n",
       "      <td>Jumanji (1995)</td>\n",
       "      <td>Adventure|Children|Fantasy</td>\n",
       "    </tr>\n",
       "    <tr>\n",
       "      <th>2</th>\n",
       "      <td>3</td>\n",
       "      <td>Grumpier Old Men (1995)</td>\n",
       "      <td>Comedy|Romance</td>\n",
       "    </tr>\n",
       "    <tr>\n",
       "      <th>3</th>\n",
       "      <td>4</td>\n",
       "      <td>Waiting to Exhale (1995)</td>\n",
       "      <td>Comedy|Drama|Romance</td>\n",
       "    </tr>\n",
       "    <tr>\n",
       "      <th>4</th>\n",
       "      <td>5</td>\n",
       "      <td>Father of the Bride Part II (1995)</td>\n",
       "      <td>Comedy</td>\n",
       "    </tr>\n",
       "  </tbody>\n",
       "</table>\n",
       "</div>"
      ],
      "text/plain": [
       "   movieId                               title  \\\n",
       "0        1                    Toy Story (1995)   \n",
       "1        2                      Jumanji (1995)   \n",
       "2        3             Grumpier Old Men (1995)   \n",
       "3        4            Waiting to Exhale (1995)   \n",
       "4        5  Father of the Bride Part II (1995)   \n",
       "\n",
       "                                        genres  \n",
       "0  Adventure|Animation|Children|Comedy|Fantasy  \n",
       "1                   Adventure|Children|Fantasy  \n",
       "2                               Comedy|Romance  \n",
       "3                         Comedy|Drama|Romance  \n",
       "4                                       Comedy  "
      ]
     },
     "execution_count": 3,
     "metadata": {},
     "output_type": "execute_result"
    }
   ],
   "source": [
    "movies.head()"
   ]
  },
  {
   "cell_type": "code",
   "execution_count": 4,
   "id": "0b807aa3-0047-45fe-a1f6-cf5b1aee1132",
   "metadata": {},
   "outputs": [
    {
     "data": {
      "text/plain": [
       "(62423, 3)"
      ]
     },
     "execution_count": 4,
     "metadata": {},
     "output_type": "execute_result"
    }
   ],
   "source": [
    "movies.shape"
   ]
  },
  {
   "cell_type": "code",
   "execution_count": 5,
   "id": "4a300864-f5fd-4a18-b6ec-19211c42679f",
   "metadata": {},
   "outputs": [],
   "source": [
    "import re\n",
    "\n",
    "def clean_title(title):\n",
    "    return re.sub('[^a-zA-Z0-9 ]', '', title.lower())"
   ]
  },
  {
   "cell_type": "code",
   "execution_count": 6,
   "id": "2ed6da31-cddd-4c55-82e0-476ec8f9bf4d",
   "metadata": {},
   "outputs": [],
   "source": [
    "movies['clean_title'] = movies['title'].apply(clean_title)"
   ]
  },
  {
   "cell_type": "code",
   "execution_count": 7,
   "id": "aef7d453-eb64-47a6-97e3-a6017ab0b01c",
   "metadata": {},
   "outputs": [
    {
     "data": {
      "text/html": [
       "<div>\n",
       "<style scoped>\n",
       "    .dataframe tbody tr th:only-of-type {\n",
       "        vertical-align: middle;\n",
       "    }\n",
       "\n",
       "    .dataframe tbody tr th {\n",
       "        vertical-align: top;\n",
       "    }\n",
       "\n",
       "    .dataframe thead th {\n",
       "        text-align: right;\n",
       "    }\n",
       "</style>\n",
       "<table border=\"1\" class=\"dataframe\">\n",
       "  <thead>\n",
       "    <tr style=\"text-align: right;\">\n",
       "      <th></th>\n",
       "      <th>movieId</th>\n",
       "      <th>title</th>\n",
       "      <th>genres</th>\n",
       "      <th>clean_title</th>\n",
       "    </tr>\n",
       "  </thead>\n",
       "  <tbody>\n",
       "    <tr>\n",
       "      <th>0</th>\n",
       "      <td>1</td>\n",
       "      <td>Toy Story (1995)</td>\n",
       "      <td>Adventure|Animation|Children|Comedy|Fantasy</td>\n",
       "      <td>toy story 1995</td>\n",
       "    </tr>\n",
       "    <tr>\n",
       "      <th>1</th>\n",
       "      <td>2</td>\n",
       "      <td>Jumanji (1995)</td>\n",
       "      <td>Adventure|Children|Fantasy</td>\n",
       "      <td>jumanji 1995</td>\n",
       "    </tr>\n",
       "    <tr>\n",
       "      <th>2</th>\n",
       "      <td>3</td>\n",
       "      <td>Grumpier Old Men (1995)</td>\n",
       "      <td>Comedy|Romance</td>\n",
       "      <td>grumpier old men 1995</td>\n",
       "    </tr>\n",
       "    <tr>\n",
       "      <th>3</th>\n",
       "      <td>4</td>\n",
       "      <td>Waiting to Exhale (1995)</td>\n",
       "      <td>Comedy|Drama|Romance</td>\n",
       "      <td>waiting to exhale 1995</td>\n",
       "    </tr>\n",
       "    <tr>\n",
       "      <th>4</th>\n",
       "      <td>5</td>\n",
       "      <td>Father of the Bride Part II (1995)</td>\n",
       "      <td>Comedy</td>\n",
       "      <td>father of the bride part ii 1995</td>\n",
       "    </tr>\n",
       "  </tbody>\n",
       "</table>\n",
       "</div>"
      ],
      "text/plain": [
       "   movieId                               title  \\\n",
       "0        1                    Toy Story (1995)   \n",
       "1        2                      Jumanji (1995)   \n",
       "2        3             Grumpier Old Men (1995)   \n",
       "3        4            Waiting to Exhale (1995)   \n",
       "4        5  Father of the Bride Part II (1995)   \n",
       "\n",
       "                                        genres  \\\n",
       "0  Adventure|Animation|Children|Comedy|Fantasy   \n",
       "1                   Adventure|Children|Fantasy   \n",
       "2                               Comedy|Romance   \n",
       "3                         Comedy|Drama|Romance   \n",
       "4                                       Comedy   \n",
       "\n",
       "                        clean_title  \n",
       "0                    toy story 1995  \n",
       "1                      jumanji 1995  \n",
       "2             grumpier old men 1995  \n",
       "3            waiting to exhale 1995  \n",
       "4  father of the bride part ii 1995  "
      ]
     },
     "execution_count": 7,
     "metadata": {},
     "output_type": "execute_result"
    }
   ],
   "source": [
    "movies.head()"
   ]
  },
  {
   "cell_type": "code",
   "execution_count": 8,
   "id": "0c5a4614-045c-4638-9f05-124e08c36942",
   "metadata": {},
   "outputs": [],
   "source": [
    "from sklearn.feature_extraction.text import TfidfVectorizer"
   ]
  },
  {
   "cell_type": "code",
   "execution_count": 9,
   "id": "ee0773d7-dedb-4ab0-a7ff-d4346b33f373",
   "metadata": {},
   "outputs": [],
   "source": [
    "vectorizer = TfidfVectorizer(ngram_range=(1,2))"
   ]
  },
  {
   "cell_type": "code",
   "execution_count": 10,
   "id": "161b5237-8766-4862-977e-4bc28188118b",
   "metadata": {},
   "outputs": [],
   "source": [
    "tfidf = vectorizer.fit_transform(movies['clean_title'])"
   ]
  },
  {
   "cell_type": "code",
   "execution_count": 11,
   "id": "26b54e15-4ace-4543-bde8-fc9ba4210375",
   "metadata": {},
   "outputs": [],
   "source": [
    "from sklearn.metrics.pairwise import cosine_similarity\n",
    "import numpy as np"
   ]
  },
  {
   "cell_type": "code",
   "execution_count": 12,
   "id": "008e8584-154f-4242-a085-3ee47bd4b526",
   "metadata": {},
   "outputs": [],
   "source": [
    "def search(title):\n",
    "    title = clean_title(title)\n",
    "    vec_title = vectorizer.transform([title])\n",
    "    similarity = cosine_similarity(vec_title, tfidf).flatten()\n",
    "    indices = np.argpartition(similarity, -5)[-5:]\n",
    "    results = movies.iloc[indices][::-1]\n",
    "    return results"
   ]
  },
  {
   "cell_type": "code",
   "execution_count": 13,
   "id": "70bb05a7-2dfe-4217-a14a-77b58684a0e6",
   "metadata": {},
   "outputs": [
    {
     "data": {
      "text/html": [
       "<div>\n",
       "<style scoped>\n",
       "    .dataframe tbody tr th:only-of-type {\n",
       "        vertical-align: middle;\n",
       "    }\n",
       "\n",
       "    .dataframe tbody tr th {\n",
       "        vertical-align: top;\n",
       "    }\n",
       "\n",
       "    .dataframe thead th {\n",
       "        text-align: right;\n",
       "    }\n",
       "</style>\n",
       "<table border=\"1\" class=\"dataframe\">\n",
       "  <thead>\n",
       "    <tr style=\"text-align: right;\">\n",
       "      <th></th>\n",
       "      <th>movieId</th>\n",
       "      <th>title</th>\n",
       "      <th>genres</th>\n",
       "      <th>clean_title</th>\n",
       "    </tr>\n",
       "  </thead>\n",
       "  <tbody>\n",
       "    <tr>\n",
       "      <th>25069</th>\n",
       "      <td>122916</td>\n",
       "      <td>Thor: Ragnarok (2017)</td>\n",
       "      <td>Action|Adventure|Sci-Fi</td>\n",
       "      <td>thor ragnarok 2017</td>\n",
       "    </tr>\n",
       "    <tr>\n",
       "      <th>40293</th>\n",
       "      <td>159089</td>\n",
       "      <td>I Am Thor (2015)</td>\n",
       "      <td>Documentary</td>\n",
       "      <td>i am thor 2015</td>\n",
       "    </tr>\n",
       "    <tr>\n",
       "      <th>16312</th>\n",
       "      <td>86332</td>\n",
       "      <td>Thor (2011)</td>\n",
       "      <td>Action|Adventure|Drama|Fantasy|IMAX</td>\n",
       "      <td>thor 2011</td>\n",
       "    </tr>\n",
       "    <tr>\n",
       "      <th>20513</th>\n",
       "      <td>106072</td>\n",
       "      <td>Thor: The Dark World (2013)</td>\n",
       "      <td>Action|Adventure|Fantasy|IMAX</td>\n",
       "      <td>thor the dark world 2013</td>\n",
       "    </tr>\n",
       "    <tr>\n",
       "      <th>43265</th>\n",
       "      <td>165639</td>\n",
       "      <td>While You Were Fighting: A Thor Mockumentary (...</td>\n",
       "      <td>Comedy|Fantasy|Sci-Fi</td>\n",
       "      <td>while you were fighting a thor mockumentary 2016</td>\n",
       "    </tr>\n",
       "  </tbody>\n",
       "</table>\n",
       "</div>"
      ],
      "text/plain": [
       "       movieId                                              title  \\\n",
       "25069   122916                              Thor: Ragnarok (2017)   \n",
       "40293   159089                                   I Am Thor (2015)   \n",
       "16312    86332                                        Thor (2011)   \n",
       "20513   106072                        Thor: The Dark World (2013)   \n",
       "43265   165639  While You Were Fighting: A Thor Mockumentary (...   \n",
       "\n",
       "                                    genres  \\\n",
       "25069              Action|Adventure|Sci-Fi   \n",
       "40293                          Documentary   \n",
       "16312  Action|Adventure|Drama|Fantasy|IMAX   \n",
       "20513        Action|Adventure|Fantasy|IMAX   \n",
       "43265                Comedy|Fantasy|Sci-Fi   \n",
       "\n",
       "                                            clean_title  \n",
       "25069                                thor ragnarok 2017  \n",
       "40293                                    i am thor 2015  \n",
       "16312                                         thor 2011  \n",
       "20513                          thor the dark world 2013  \n",
       "43265  while you were fighting a thor mockumentary 2016  "
      ]
     },
     "execution_count": 13,
     "metadata": {},
     "output_type": "execute_result"
    }
   ],
   "source": [
    "search('Thor')"
   ]
  },
  {
   "cell_type": "code",
   "execution_count": 14,
   "id": "53e295ad-0d15-4b0b-bb16-86f615c40545",
   "metadata": {},
   "outputs": [],
   "source": [
    "import ipywidgets as wiz\n",
    "from IPython.display import display"
   ]
  },
  {
   "cell_type": "code",
   "execution_count": 15,
   "id": "a80c5fac-cb2d-4c04-98a0-9261eb4e4466",
   "metadata": {},
   "outputs": [],
   "source": [
    "movie_input = wiz.Text(value = 'Toy Story', description = 'Movie Title:', disabled = False)"
   ]
  },
  {
   "cell_type": "code",
   "execution_count": 16,
   "id": "f8114f6e-b856-4de1-b58c-9468313ada05",
   "metadata": {},
   "outputs": [],
   "source": [
    "movie_list = wiz.Output()"
   ]
  },
  {
   "cell_type": "code",
   "execution_count": 17,
   "id": "cc25468b-483b-45f7-99a6-2280d48bfb73",
   "metadata": {},
   "outputs": [],
   "source": [
    "def on_type(data):\n",
    "    with movie_list:\n",
    "        movie_list.clear_output()\n",
    "        title = data['new']\n",
    "        if len(title) > 5:\n",
    "            display(search(title))"
   ]
  },
  {
   "cell_type": "code",
   "execution_count": 18,
   "id": "8aa4570c-ee15-48e3-aeb8-4c05a3388492",
   "metadata": {},
   "outputs": [],
   "source": [
    "movie_input.observe(on_type, names='value')"
   ]
  },
  {
   "cell_type": "code",
   "execution_count": 19,
   "id": "4d324a10-9b62-40b6-bb29-de219d6f6f9c",
   "metadata": {},
   "outputs": [
    {
     "data": {
      "application/vnd.jupyter.widget-view+json": {
       "model_id": "0f0b34573f9543f99968e1b95e570936",
       "version_major": 2,
       "version_minor": 0
      },
      "text/plain": [
       "Text(value='Toy Story', description='Movie Title:')"
      ]
     },
     "metadata": {},
     "output_type": "display_data"
    },
    {
     "data": {
      "application/vnd.jupyter.widget-view+json": {
       "model_id": "a43e2f1e1d1b4594b659a42a83efc174",
       "version_major": 2,
       "version_minor": 0
      },
      "text/plain": [
       "Output()"
      ]
     },
     "metadata": {},
     "output_type": "display_data"
    }
   ],
   "source": [
    "display(movie_input, movie_list)"
   ]
  },
  {
   "cell_type": "code",
   "execution_count": 20,
   "id": "8d17f4b8-e436-40be-a4da-af9acab06414",
   "metadata": {},
   "outputs": [],
   "source": [
    "ratings = pd.read_csv('dataset/ratings.csv')"
   ]
  },
  {
   "cell_type": "code",
   "execution_count": 21,
   "id": "4c552ccd-f141-4d60-b6be-2bca2477efa3",
   "metadata": {},
   "outputs": [
    {
     "data": {
      "text/html": [
       "<div>\n",
       "<style scoped>\n",
       "    .dataframe tbody tr th:only-of-type {\n",
       "        vertical-align: middle;\n",
       "    }\n",
       "\n",
       "    .dataframe tbody tr th {\n",
       "        vertical-align: top;\n",
       "    }\n",
       "\n",
       "    .dataframe thead th {\n",
       "        text-align: right;\n",
       "    }\n",
       "</style>\n",
       "<table border=\"1\" class=\"dataframe\">\n",
       "  <thead>\n",
       "    <tr style=\"text-align: right;\">\n",
       "      <th></th>\n",
       "      <th>userId</th>\n",
       "      <th>movieId</th>\n",
       "      <th>rating</th>\n",
       "      <th>timestamp</th>\n",
       "    </tr>\n",
       "  </thead>\n",
       "  <tbody>\n",
       "    <tr>\n",
       "      <th>0</th>\n",
       "      <td>1</td>\n",
       "      <td>296</td>\n",
       "      <td>5.0</td>\n",
       "      <td>1147880044</td>\n",
       "    </tr>\n",
       "    <tr>\n",
       "      <th>1</th>\n",
       "      <td>1</td>\n",
       "      <td>306</td>\n",
       "      <td>3.5</td>\n",
       "      <td>1147868817</td>\n",
       "    </tr>\n",
       "    <tr>\n",
       "      <th>2</th>\n",
       "      <td>1</td>\n",
       "      <td>307</td>\n",
       "      <td>5.0</td>\n",
       "      <td>1147868828</td>\n",
       "    </tr>\n",
       "    <tr>\n",
       "      <th>3</th>\n",
       "      <td>1</td>\n",
       "      <td>665</td>\n",
       "      <td>5.0</td>\n",
       "      <td>1147878820</td>\n",
       "    </tr>\n",
       "    <tr>\n",
       "      <th>4</th>\n",
       "      <td>1</td>\n",
       "      <td>899</td>\n",
       "      <td>3.5</td>\n",
       "      <td>1147868510</td>\n",
       "    </tr>\n",
       "  </tbody>\n",
       "</table>\n",
       "</div>"
      ],
      "text/plain": [
       "   userId  movieId  rating   timestamp\n",
       "0       1      296     5.0  1147880044\n",
       "1       1      306     3.5  1147868817\n",
       "2       1      307     5.0  1147868828\n",
       "3       1      665     5.0  1147878820\n",
       "4       1      899     3.5  1147868510"
      ]
     },
     "execution_count": 21,
     "metadata": {},
     "output_type": "execute_result"
    }
   ],
   "source": [
    "ratings.head()"
   ]
  },
  {
   "cell_type": "code",
   "execution_count": 22,
   "id": "bd9b70c1-420f-4487-b7a3-54d9e91e2131",
   "metadata": {},
   "outputs": [
    {
     "data": {
      "text/plain": [
       "userId         int64\n",
       "movieId        int64\n",
       "rating       float64\n",
       "timestamp      int64\n",
       "dtype: object"
      ]
     },
     "execution_count": 22,
     "metadata": {},
     "output_type": "execute_result"
    }
   ],
   "source": [
    "ratings.dtypes"
   ]
  },
  {
   "cell_type": "code",
   "execution_count": 23,
   "id": "cfe003a8-9041-4f0c-ae5d-ffff9121704e",
   "metadata": {},
   "outputs": [
    {
     "data": {
      "text/plain": [
       "(25000095, 4)"
      ]
     },
     "execution_count": 23,
     "metadata": {},
     "output_type": "execute_result"
    }
   ],
   "source": [
    "ratings.shape"
   ]
  },
  {
   "cell_type": "code",
   "execution_count": 24,
   "id": "92850d36-f116-4866-a8e5-110505c3605c",
   "metadata": {},
   "outputs": [],
   "source": [
    "# cardrequest@bracbank.com"
   ]
  },
  {
   "cell_type": "code",
   "execution_count": 25,
   "id": "5744ce1a-dacb-485c-bf87-b664567dc5f4",
   "metadata": {},
   "outputs": [],
   "source": [
    "movie_id = 1"
   ]
  },
  {
   "cell_type": "code",
   "execution_count": 26,
   "id": "920f79d7-6548-48a7-b1d9-12d9dd8346c3",
   "metadata": {},
   "outputs": [],
   "source": [
    "similar_users = ratings[(ratings['movieId'] == movie_id) & (ratings['rating'] > 4)]['userId'].unique()"
   ]
  },
  {
   "cell_type": "code",
   "execution_count": 27,
   "id": "a641696d-1b19-44be-935a-f944614debda",
   "metadata": {},
   "outputs": [
    {
     "data": {
      "text/plain": [
       "array([    36,     75,     86, ..., 162527, 162530, 162533])"
      ]
     },
     "execution_count": 27,
     "metadata": {},
     "output_type": "execute_result"
    }
   ],
   "source": [
    "similar_users"
   ]
  },
  {
   "cell_type": "code",
   "execution_count": 28,
   "id": "5e92550b-77e8-4d00-b31c-6cc166202a39",
   "metadata": {},
   "outputs": [],
   "source": [
    "similar_user_recs = ratings[(ratings['userId'].isin(similar_users)) & (ratings['rating'] > 4)]['movieId']"
   ]
  },
  {
   "cell_type": "code",
   "execution_count": 29,
   "id": "8e610474-6532-4b65-9f72-e1954479d616",
   "metadata": {},
   "outputs": [
    {
     "data": {
      "text/plain": [
       "5101            1\n",
       "5105           34\n",
       "5111          110\n",
       "5114          150\n",
       "5127          260\n",
       "            ...  \n",
       "24998854    60069\n",
       "24998861    67997\n",
       "24998876    78499\n",
       "24998884    81591\n",
       "24998888    88129\n",
       "Name: movieId, Length: 1358326, dtype: int64"
      ]
     },
     "execution_count": 29,
     "metadata": {},
     "output_type": "execute_result"
    }
   ],
   "source": [
    "similar_user_recs"
   ]
  },
  {
   "cell_type": "code",
   "execution_count": 30,
   "id": "eded299a-2501-400a-a76b-a92b8d292e25",
   "metadata": {},
   "outputs": [],
   "source": [
    "similar_user_recs = similar_user_recs.value_counts() / len(similar_users)\n",
    "\n",
    "similar_user_recs = similar_user_recs[similar_user_recs > .1]"
   ]
  },
  {
   "cell_type": "code",
   "execution_count": 31,
   "id": "08ec110a-9506-4846-bafd-0c73ea071fb4",
   "metadata": {},
   "outputs": [
    {
     "data": {
      "text/plain": [
       "1        1.000000\n",
       "318      0.445607\n",
       "260      0.403770\n",
       "356      0.370215\n",
       "296      0.367295\n",
       "           ...   \n",
       "953      0.103053\n",
       "551      0.101195\n",
       "1222     0.100876\n",
       "745      0.100345\n",
       "48780    0.100186\n",
       "Name: movieId, Length: 113, dtype: float64"
      ]
     },
     "execution_count": 31,
     "metadata": {},
     "output_type": "execute_result"
    }
   ],
   "source": [
    "similar_user_recs"
   ]
  },
  {
   "cell_type": "code",
   "execution_count": 32,
   "id": "e8afc758-7019-4fc9-b321-daef19b72be0",
   "metadata": {},
   "outputs": [],
   "source": [
    "all_users = ratings[(ratings['movieId'].isin(similar_user_recs.index)) & (ratings['rating'] > 4)]"
   ]
  },
  {
   "cell_type": "code",
   "execution_count": 33,
   "id": "e1bfd0e7-97ac-4a3c-bc63-ca588943914d",
   "metadata": {},
   "outputs": [],
   "source": [
    "all_user_recs = all_users['movieId'].value_counts() / len(all_users['userId'].unique())"
   ]
  },
  {
   "cell_type": "code",
   "execution_count": 34,
   "id": "2be1f893-0028-4566-b0e4-c976f76e3a65",
   "metadata": {},
   "outputs": [
    {
     "data": {
      "text/plain": [
       "318      0.342220\n",
       "296      0.284674\n",
       "2571     0.244033\n",
       "356      0.235266\n",
       "593      0.225909\n",
       "           ...   \n",
       "551      0.040918\n",
       "50872    0.039111\n",
       "745      0.037031\n",
       "78499    0.035131\n",
       "2355     0.025091\n",
       "Name: movieId, Length: 113, dtype: float64"
      ]
     },
     "execution_count": 34,
     "metadata": {},
     "output_type": "execute_result"
    }
   ],
   "source": [
    "all_user_recs"
   ]
  },
  {
   "cell_type": "code",
   "execution_count": 35,
   "id": "0b6427d6-6e73-4807-9085-7db8c3236d91",
   "metadata": {},
   "outputs": [],
   "source": [
    "recs_percentage = pd.concat([similar_user_recs, all_user_recs], axis=1)\n",
    "recs_percentage.columns = ['similar', 'all']"
   ]
  },
  {
   "cell_type": "code",
   "execution_count": 36,
   "id": "427a8f68-6dc0-45a5-88e9-83ba24c55145",
   "metadata": {},
   "outputs": [
    {
     "data": {
      "text/html": [
       "<div>\n",
       "<style scoped>\n",
       "    .dataframe tbody tr th:only-of-type {\n",
       "        vertical-align: middle;\n",
       "    }\n",
       "\n",
       "    .dataframe tbody tr th {\n",
       "        vertical-align: top;\n",
       "    }\n",
       "\n",
       "    .dataframe thead th {\n",
       "        text-align: right;\n",
       "    }\n",
       "</style>\n",
       "<table border=\"1\" class=\"dataframe\">\n",
       "  <thead>\n",
       "    <tr style=\"text-align: right;\">\n",
       "      <th></th>\n",
       "      <th>similar</th>\n",
       "      <th>all</th>\n",
       "    </tr>\n",
       "  </thead>\n",
       "  <tbody>\n",
       "    <tr>\n",
       "      <th>1</th>\n",
       "      <td>1.000000</td>\n",
       "      <td>0.124728</td>\n",
       "    </tr>\n",
       "    <tr>\n",
       "      <th>318</th>\n",
       "      <td>0.445607</td>\n",
       "      <td>0.342220</td>\n",
       "    </tr>\n",
       "    <tr>\n",
       "      <th>260</th>\n",
       "      <td>0.403770</td>\n",
       "      <td>0.222207</td>\n",
       "    </tr>\n",
       "    <tr>\n",
       "      <th>356</th>\n",
       "      <td>0.370215</td>\n",
       "      <td>0.235266</td>\n",
       "    </tr>\n",
       "    <tr>\n",
       "      <th>296</th>\n",
       "      <td>0.367295</td>\n",
       "      <td>0.284674</td>\n",
       "    </tr>\n",
       "    <tr>\n",
       "      <th>...</th>\n",
       "      <td>...</td>\n",
       "      <td>...</td>\n",
       "    </tr>\n",
       "    <tr>\n",
       "      <th>953</th>\n",
       "      <td>0.103053</td>\n",
       "      <td>0.045792</td>\n",
       "    </tr>\n",
       "    <tr>\n",
       "      <th>551</th>\n",
       "      <td>0.101195</td>\n",
       "      <td>0.040918</td>\n",
       "    </tr>\n",
       "    <tr>\n",
       "      <th>1222</th>\n",
       "      <td>0.100876</td>\n",
       "      <td>0.066877</td>\n",
       "    </tr>\n",
       "    <tr>\n",
       "      <th>745</th>\n",
       "      <td>0.100345</td>\n",
       "      <td>0.037031</td>\n",
       "    </tr>\n",
       "    <tr>\n",
       "      <th>48780</th>\n",
       "      <td>0.100186</td>\n",
       "      <td>0.068314</td>\n",
       "    </tr>\n",
       "  </tbody>\n",
       "</table>\n",
       "<p>113 rows × 2 columns</p>\n",
       "</div>"
      ],
      "text/plain": [
       "        similar       all\n",
       "1      1.000000  0.124728\n",
       "318    0.445607  0.342220\n",
       "260    0.403770  0.222207\n",
       "356    0.370215  0.235266\n",
       "296    0.367295  0.284674\n",
       "...         ...       ...\n",
       "953    0.103053  0.045792\n",
       "551    0.101195  0.040918\n",
       "1222   0.100876  0.066877\n",
       "745    0.100345  0.037031\n",
       "48780  0.100186  0.068314\n",
       "\n",
       "[113 rows x 2 columns]"
      ]
     },
     "execution_count": 36,
     "metadata": {},
     "output_type": "execute_result"
    }
   ],
   "source": [
    "recs_percentage"
   ]
  },
  {
   "cell_type": "code",
   "execution_count": 37,
   "id": "d6e1f8eb-0a02-4c28-8b3f-066c57500d96",
   "metadata": {},
   "outputs": [],
   "source": [
    "recs_percentage['score'] = recs_percentage['similar'] / recs_percentage['all']"
   ]
  },
  {
   "cell_type": "code",
   "execution_count": 38,
   "id": "71dd09d6-af64-4331-8102-861201b77428",
   "metadata": {},
   "outputs": [],
   "source": [
    "recs_percentage = recs_percentage.sort_values('score', ascending=False)"
   ]
  },
  {
   "cell_type": "code",
   "execution_count": 39,
   "id": "118e4913-900c-46ee-a43c-e2d56dd0ebcb",
   "metadata": {},
   "outputs": [
    {
     "data": {
      "text/html": [
       "<div>\n",
       "<style scoped>\n",
       "    .dataframe tbody tr th:only-of-type {\n",
       "        vertical-align: middle;\n",
       "    }\n",
       "\n",
       "    .dataframe tbody tr th {\n",
       "        vertical-align: top;\n",
       "    }\n",
       "\n",
       "    .dataframe thead th {\n",
       "        text-align: right;\n",
       "    }\n",
       "</style>\n",
       "<table border=\"1\" class=\"dataframe\">\n",
       "  <thead>\n",
       "    <tr style=\"text-align: right;\">\n",
       "      <th></th>\n",
       "      <th>similar</th>\n",
       "      <th>all</th>\n",
       "      <th>score</th>\n",
       "    </tr>\n",
       "  </thead>\n",
       "  <tbody>\n",
       "    <tr>\n",
       "      <th>1</th>\n",
       "      <td>1.000000</td>\n",
       "      <td>0.124728</td>\n",
       "      <td>8.017414</td>\n",
       "    </tr>\n",
       "    <tr>\n",
       "      <th>3114</th>\n",
       "      <td>0.280648</td>\n",
       "      <td>0.053706</td>\n",
       "      <td>5.225654</td>\n",
       "    </tr>\n",
       "    <tr>\n",
       "      <th>2355</th>\n",
       "      <td>0.110539</td>\n",
       "      <td>0.025091</td>\n",
       "      <td>4.405452</td>\n",
       "    </tr>\n",
       "    <tr>\n",
       "      <th>78499</th>\n",
       "      <td>0.152960</td>\n",
       "      <td>0.035131</td>\n",
       "      <td>4.354038</td>\n",
       "    </tr>\n",
       "    <tr>\n",
       "      <th>4886</th>\n",
       "      <td>0.235147</td>\n",
       "      <td>0.070811</td>\n",
       "      <td>3.320783</td>\n",
       "    </tr>\n",
       "    <tr>\n",
       "      <th>...</th>\n",
       "      <td>...</td>\n",
       "      <td>...</td>\n",
       "      <td>...</td>\n",
       "    </tr>\n",
       "    <tr>\n",
       "      <th>2858</th>\n",
       "      <td>0.216724</td>\n",
       "      <td>0.167634</td>\n",
       "      <td>1.292845</td>\n",
       "    </tr>\n",
       "    <tr>\n",
       "      <th>296</th>\n",
       "      <td>0.367295</td>\n",
       "      <td>0.284674</td>\n",
       "      <td>1.290232</td>\n",
       "    </tr>\n",
       "    <tr>\n",
       "      <th>79132</th>\n",
       "      <td>0.166817</td>\n",
       "      <td>0.131384</td>\n",
       "      <td>1.269693</td>\n",
       "    </tr>\n",
       "    <tr>\n",
       "      <th>4973</th>\n",
       "      <td>0.142501</td>\n",
       "      <td>0.112405</td>\n",
       "      <td>1.267747</td>\n",
       "    </tr>\n",
       "    <tr>\n",
       "      <th>2959</th>\n",
       "      <td>0.262649</td>\n",
       "      <td>0.216717</td>\n",
       "      <td>1.211946</td>\n",
       "    </tr>\n",
       "  </tbody>\n",
       "</table>\n",
       "<p>113 rows × 3 columns</p>\n",
       "</div>"
      ],
      "text/plain": [
       "        similar       all     score\n",
       "1      1.000000  0.124728  8.017414\n",
       "3114   0.280648  0.053706  5.225654\n",
       "2355   0.110539  0.025091  4.405452\n",
       "78499  0.152960  0.035131  4.354038\n",
       "4886   0.235147  0.070811  3.320783\n",
       "...         ...       ...       ...\n",
       "2858   0.216724  0.167634  1.292845\n",
       "296    0.367295  0.284674  1.290232\n",
       "79132  0.166817  0.131384  1.269693\n",
       "4973   0.142501  0.112405  1.267747\n",
       "2959   0.262649  0.216717  1.211946\n",
       "\n",
       "[113 rows x 3 columns]"
      ]
     },
     "execution_count": 39,
     "metadata": {},
     "output_type": "execute_result"
    }
   ],
   "source": [
    "recs_percentage"
   ]
  },
  {
   "cell_type": "code",
   "execution_count": 40,
   "id": "c76f19d5-78b7-45d5-9646-6f1561412d2e",
   "metadata": {},
   "outputs": [
    {
     "data": {
      "text/html": [
       "<div>\n",
       "<style scoped>\n",
       "    .dataframe tbody tr th:only-of-type {\n",
       "        vertical-align: middle;\n",
       "    }\n",
       "\n",
       "    .dataframe tbody tr th {\n",
       "        vertical-align: top;\n",
       "    }\n",
       "\n",
       "    .dataframe thead th {\n",
       "        text-align: right;\n",
       "    }\n",
       "</style>\n",
       "<table border=\"1\" class=\"dataframe\">\n",
       "  <thead>\n",
       "    <tr style=\"text-align: right;\">\n",
       "      <th></th>\n",
       "      <th>similar</th>\n",
       "      <th>all</th>\n",
       "      <th>score</th>\n",
       "      <th>movieId</th>\n",
       "      <th>title</th>\n",
       "      <th>genres</th>\n",
       "      <th>clean_title</th>\n",
       "    </tr>\n",
       "  </thead>\n",
       "  <tbody>\n",
       "    <tr>\n",
       "      <th>0</th>\n",
       "      <td>1.000000</td>\n",
       "      <td>0.124728</td>\n",
       "      <td>8.017414</td>\n",
       "      <td>1</td>\n",
       "      <td>Toy Story (1995)</td>\n",
       "      <td>Adventure|Animation|Children|Comedy|Fantasy</td>\n",
       "      <td>toy story 1995</td>\n",
       "    </tr>\n",
       "    <tr>\n",
       "      <th>3021</th>\n",
       "      <td>0.280648</td>\n",
       "      <td>0.053706</td>\n",
       "      <td>5.225654</td>\n",
       "      <td>3114</td>\n",
       "      <td>Toy Story 2 (1999)</td>\n",
       "      <td>Adventure|Animation|Children|Comedy|Fantasy</td>\n",
       "      <td>toy story 2 1999</td>\n",
       "    </tr>\n",
       "    <tr>\n",
       "      <th>2264</th>\n",
       "      <td>0.110539</td>\n",
       "      <td>0.025091</td>\n",
       "      <td>4.405452</td>\n",
       "      <td>2355</td>\n",
       "      <td>Bug's Life, A (1998)</td>\n",
       "      <td>Adventure|Animation|Children|Comedy</td>\n",
       "      <td>bugs life a 1998</td>\n",
       "    </tr>\n",
       "    <tr>\n",
       "      <th>14813</th>\n",
       "      <td>0.152960</td>\n",
       "      <td>0.035131</td>\n",
       "      <td>4.354038</td>\n",
       "      <td>78499</td>\n",
       "      <td>Toy Story 3 (2010)</td>\n",
       "      <td>Adventure|Animation|Children|Comedy|Fantasy|IMAX</td>\n",
       "      <td>toy story 3 2010</td>\n",
       "    </tr>\n",
       "    <tr>\n",
       "      <th>4780</th>\n",
       "      <td>0.235147</td>\n",
       "      <td>0.070811</td>\n",
       "      <td>3.320783</td>\n",
       "      <td>4886</td>\n",
       "      <td>Monsters, Inc. (2001)</td>\n",
       "      <td>Adventure|Animation|Children|Comedy|Fantasy</td>\n",
       "      <td>monsters inc 2001</td>\n",
       "    </tr>\n",
       "    <tr>\n",
       "      <th>580</th>\n",
       "      <td>0.216618</td>\n",
       "      <td>0.067513</td>\n",
       "      <td>3.208539</td>\n",
       "      <td>588</td>\n",
       "      <td>Aladdin (1992)</td>\n",
       "      <td>Adventure|Animation|Children|Comedy|Musical</td>\n",
       "      <td>aladdin 1992</td>\n",
       "    </tr>\n",
       "    <tr>\n",
       "      <th>6258</th>\n",
       "      <td>0.228139</td>\n",
       "      <td>0.072268</td>\n",
       "      <td>3.156862</td>\n",
       "      <td>6377</td>\n",
       "      <td>Finding Nemo (2003)</td>\n",
       "      <td>Adventure|Animation|Children|Comedy</td>\n",
       "      <td>finding nemo 2003</td>\n",
       "    </tr>\n",
       "    <tr>\n",
       "      <th>587</th>\n",
       "      <td>0.179400</td>\n",
       "      <td>0.059977</td>\n",
       "      <td>2.991150</td>\n",
       "      <td>595</td>\n",
       "      <td>Beauty and the Beast (1991)</td>\n",
       "      <td>Animation|Children|Fantasy|Musical|Romance|IMAX</td>\n",
       "      <td>beauty and the beast 1991</td>\n",
       "    </tr>\n",
       "    <tr>\n",
       "      <th>8246</th>\n",
       "      <td>0.203504</td>\n",
       "      <td>0.068453</td>\n",
       "      <td>2.972889</td>\n",
       "      <td>8961</td>\n",
       "      <td>Incredibles, The (2004)</td>\n",
       "      <td>Action|Adventure|Animation|Children|Comedy</td>\n",
       "      <td>incredibles the 2004</td>\n",
       "    </tr>\n",
       "    <tr>\n",
       "      <th>359</th>\n",
       "      <td>0.253411</td>\n",
       "      <td>0.085764</td>\n",
       "      <td>2.954762</td>\n",
       "      <td>364</td>\n",
       "      <td>Lion King, The (1994)</td>\n",
       "      <td>Adventure|Animation|Children|Drama|Musical|IMAX</td>\n",
       "      <td>lion king the 1994</td>\n",
       "    </tr>\n",
       "  </tbody>\n",
       "</table>\n",
       "</div>"
      ],
      "text/plain": [
       "        similar       all     score  movieId                        title  \\\n",
       "0      1.000000  0.124728  8.017414        1             Toy Story (1995)   \n",
       "3021   0.280648  0.053706  5.225654     3114           Toy Story 2 (1999)   \n",
       "2264   0.110539  0.025091  4.405452     2355         Bug's Life, A (1998)   \n",
       "14813  0.152960  0.035131  4.354038    78499           Toy Story 3 (2010)   \n",
       "4780   0.235147  0.070811  3.320783     4886        Monsters, Inc. (2001)   \n",
       "580    0.216618  0.067513  3.208539      588               Aladdin (1992)   \n",
       "6258   0.228139  0.072268  3.156862     6377          Finding Nemo (2003)   \n",
       "587    0.179400  0.059977  2.991150      595  Beauty and the Beast (1991)   \n",
       "8246   0.203504  0.068453  2.972889     8961      Incredibles, The (2004)   \n",
       "359    0.253411  0.085764  2.954762      364        Lion King, The (1994)   \n",
       "\n",
       "                                                 genres  \\\n",
       "0           Adventure|Animation|Children|Comedy|Fantasy   \n",
       "3021        Adventure|Animation|Children|Comedy|Fantasy   \n",
       "2264                Adventure|Animation|Children|Comedy   \n",
       "14813  Adventure|Animation|Children|Comedy|Fantasy|IMAX   \n",
       "4780        Adventure|Animation|Children|Comedy|Fantasy   \n",
       "580         Adventure|Animation|Children|Comedy|Musical   \n",
       "6258                Adventure|Animation|Children|Comedy   \n",
       "587     Animation|Children|Fantasy|Musical|Romance|IMAX   \n",
       "8246         Action|Adventure|Animation|Children|Comedy   \n",
       "359     Adventure|Animation|Children|Drama|Musical|IMAX   \n",
       "\n",
       "                     clean_title  \n",
       "0                 toy story 1995  \n",
       "3021            toy story 2 1999  \n",
       "2264            bugs life a 1998  \n",
       "14813           toy story 3 2010  \n",
       "4780           monsters inc 2001  \n",
       "580                 aladdin 1992  \n",
       "6258           finding nemo 2003  \n",
       "587    beauty and the beast 1991  \n",
       "8246        incredibles the 2004  \n",
       "359           lion king the 1994  "
      ]
     },
     "execution_count": 40,
     "metadata": {},
     "output_type": "execute_result"
    }
   ],
   "source": [
    "recs_percentage.head(10).merge(movies, left_index=True, right_on='movieId')"
   ]
  },
  {
   "cell_type": "code",
   "execution_count": 41,
   "id": "aedee813-c969-4125-bca3-59aae4091684",
   "metadata": {},
   "outputs": [],
   "source": [
    "def find_similar_movies(movie_id):\n",
    "    similar_users = ratings[(ratings['movieId'] == movie_id) & (ratings['rating'] > 4)]['userId'].unique()\n",
    "    similar_user_recs = ratings[(ratings['userId'].isin(similar_users)) & (ratings['rating'] > 4)]['movieId']\n",
    "    \n",
    "    similar_user_recs = similar_user_recs.value_counts() / len(similar_users)\n",
    "    similar_user_recs = similar_user_recs[similar_user_recs > .10]\n",
    "    \n",
    "    all_users = ratings[(ratings['movieId'].isin(similar_user_recs.index)) & (ratings['rating'] > 4)]\n",
    "    all_user_recs = all_users['movieId'].value_counts() / len(all_users['userId'].unique())\n",
    "    \n",
    "    recs_percentage = pd.concat([similar_user_recs, all_user_recs], axis=1)\n",
    "    recs_percentage.columns = ['similar', 'all']\n",
    "    \n",
    "    recs_percentage['score'] = recs_percentage['similar'] / recs_percentage['all']\n",
    "    recs_percentage = recs_percentage.sort_values('score', ascending=False)\n",
    "    \n",
    "    return recs_percentage.head(10).merge(movies, left_index=True, right_on='movieId')[['score', 'title', 'genres']]"
   ]
  },
  {
   "cell_type": "code",
   "execution_count": 42,
   "id": "364657f7-c243-4e9f-90ba-17d52d4c8990",
   "metadata": {},
   "outputs": [
    {
     "data": {
      "application/vnd.jupyter.widget-view+json": {
       "model_id": "df531327572749a09432d5731a6d91c2",
       "version_major": 2,
       "version_minor": 0
      },
      "text/plain": [
       "Text(value='Toy Story', description='Movie Title:')"
      ]
     },
     "metadata": {},
     "output_type": "display_data"
    },
    {
     "data": {
      "application/vnd.jupyter.widget-view+json": {
       "model_id": "aea68d1dbb8848a1bf95558c6e6d9264",
       "version_major": 2,
       "version_minor": 0
      },
      "text/plain": [
       "Output()"
      ]
     },
     "metadata": {},
     "output_type": "display_data"
    }
   ],
   "source": [
    "movie_name_input = wiz.Text(value = 'Toy Story', description = 'Movie Title:', disabled = False)\n",
    "\n",
    "recommendation_list = wiz.Output()\n",
    "\n",
    "def on_type(data):\n",
    "    with recommendation_list:\n",
    "        recommendation_list.clear_output()\n",
    "        title = data['new']\n",
    "        if len(title) > 5:\n",
    "            results = search(title)\n",
    "            movie_id = results.iloc[0]['movieId']\n",
    "            display(find_similar_movies(movie_id))\n",
    "            \n",
    "movie_name_input.observe(on_type, names='value')\n",
    "display(movie_name_input, recommendation_list)"
   ]
  },
  {
   "cell_type": "code",
   "execution_count": null,
   "id": "1dc01184-fd44-4afb-9258-2dd5cf9bbf7b",
   "metadata": {},
   "outputs": [],
   "source": []
  }
 ],
 "metadata": {
  "kernelspec": {
   "display_name": "Python 3 (ipykernel)",
   "language": "python",
   "name": "python3"
  },
  "language_info": {
   "codemirror_mode": {
    "name": "ipython",
    "version": 3
   },
   "file_extension": ".py",
   "mimetype": "text/x-python",
   "name": "python",
   "nbconvert_exporter": "python",
   "pygments_lexer": "ipython3",
   "version": "3.10.1"
  }
 },
 "nbformat": 4,
 "nbformat_minor": 5
}
